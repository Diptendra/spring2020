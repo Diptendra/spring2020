{
 "cells": [
  {
   "cell_type": "markdown",
   "metadata": {},
   "source": [
    "# Heat Maps & Market Maps\n",
    "\n",
    "We'll build off our use of `bqplot` to make a dashboard with randomly sampled data last lecture to make interactive dashboards out of \"real\" data using the `UFO Dataset`.\n",
    "\n",
    "We'll also look at the `Market Map` marks in `bqplot` for another representation of mappable data in a dashboard."
   ]
  },
  {
   "cell_type": "markdown",
   "metadata": {},
   "source": [
    "Let's import our usual stuff:"
   ]
  },
  {
   "cell_type": "code",
   "execution_count": 15,
   "metadata": {},
   "outputs": [],
   "source": [
    "import pandas as pd\n",
    "import bqplot\n",
    "import numpy as np\n",
    "import traitlets\n",
    "import ipywidgets\n",
    "import matplotlib.pyplot as plt\n",
    "%matplotlib inline"
   ]
  },
  {
   "cell_type": "markdown",
   "metadata": {},
   "source": [
    "## Dashboarding with \"real\" data using the UFO dataset"
   ]
  },
  {
   "cell_type": "markdown",
   "metadata": {},
   "source": [
    "Let's read in the UFO dataset:"
   ]
  },
  {
   "cell_type": "code",
   "execution_count": 2,
   "metadata": {},
   "outputs": [],
   "source": [
    "ufos = pd.read_csv(\"/Users/jillnaiman/Downloads/ufo-scrubbed-geocoded-time-standardized-00.csv\",\n",
    "                  names = [\"date\", \"city\", \"state\", \"country\",\n",
    "                          \"shape\", \"duration_seconds\", \"duration\",\n",
    "                          \"comment\", \"report_date\", \n",
    "                           \"latitude\", \"longitude\"],\n",
    "                  parse_dates = [\"date\", \"report_date\"])"
   ]
  },
  {
   "cell_type": "markdown",
   "metadata": {},
   "source": [
    "### Aside: downsampling\n",
    "\n",
    "We have covered downsampling before, but we will repeat it here in case folks have slower computers and don't want to use the full dataset while in class.\n",
    "\n",
    "We can remind ourselves of how many entries are in this dataset:"
   ]
  },
  {
   "cell_type": "code",
   "execution_count": 3,
   "metadata": {},
   "outputs": [
    {
     "data": {
      "text/plain": [
       "80332"
      ]
     },
     "execution_count": 3,
     "metadata": {},
     "output_type": "execute_result"
    }
   ],
   "source": [
    "len(ufos)"
   ]
  },
  {
   "cell_type": "markdown",
   "metadata": {},
   "source": [
    "80,000 entries is a lot!  So, to speed up our interactivity, we can randomly sample this dataset for plotting purposes.  Lets down sample to 1000 samples:"
   ]
  },
  {
   "cell_type": "code",
   "execution_count": 5,
   "metadata": {},
   "outputs": [
    {
     "data": {
      "text/plain": [
       "array([70752, 66128, 65793, 19456, 30991, 27136, 74723, 34842, 77280,\n",
       "       55245, 36566, 79353, 52300, 33432, 44848, 32956, 50497, 78985,\n",
       "       59435, 68002, 50113, 57847, 77723, 15846, 58436, 68122, 70325,\n",
       "       52838, 36180, 29864, 27709, 26233, 59066, 28480, 25536,   244,\n",
       "       73630, 69435,  1787, 61171, 64035, 19167,  9536, 79888, 34448,\n",
       "       65078, 74547, 48370, 40503, 20412, 32244, 18469, 26994, 21559,\n",
       "       71916, 78834, 76513, 13047, 24975, 26024, 12429, 64277, 54262,\n",
       "       76933, 26942, 60965, 31685, 76401, 66683, 16922, 18124, 61934,\n",
       "       79549, 66788, 58791, 47485, 53281, 23108, 49325, 77019,  5009,\n",
       "       14051,  8185, 20147, 70616, 63988, 65812, 66350, 50014, 17297,\n",
       "       33261, 37053,   356,  7314, 31942,  8395, 42702, 50639, 53838,\n",
       "         792, 16400, 28413,  5744, 66701, 36404, 54738, 67124,  5197,\n",
       "       66119, 76424,  3539, 46718, 39424, 20556, 80128,  6286, 65167,\n",
       "        9295, 57061,  4943, 47816, 68146,  4305, 64890, 18246, 29669,\n",
       "       28920, 11136, 50210, 76279, 70141, 60534, 53251, 27143, 61356,\n",
       "       33449, 40445, 72555, 15419, 14148,  7734, 34543,  8324, 33621,\n",
       "       21424, 54026, 71542,  8842, 72128, 41860, 79279, 20991, 61814,\n",
       "       76861, 66260, 69491, 11476, 31590, 78439,  7739, 16332, 55439,\n",
       "       77428, 73756, 43881, 79648, 37373, 26586, 15640, 68365, 24612,\n",
       "        2019, 34878, 54085,  6858,  7847,   127, 26843,  3082, 24696,\n",
       "       53827,  5133, 75657, 62899, 47473, 17335, 19478, 61043, 68318,\n",
       "        4842, 55601, 17796, 10779, 28429, 43866, 58373,  3198, 14858,\n",
       "       53675, 20368, 74909, 50961, 28080, 65365, 67192, 38721, 67202,\n",
       "       34460, 19496, 39802, 71108,  3014, 54887, 29708, 62002, 54462,\n",
       "       40782, 46322, 71658, 65717, 28008,  2025, 46621, 32082, 10469,\n",
       "       24362, 55811, 24629, 15968, 59809, 20632, 35963, 37692, 23988,\n",
       "        1044, 47790, 31469, 15072, 70433, 47705, 53485, 48823,  6440,\n",
       "       45997, 34188,  1771, 46481, 33365,  5735, 16676,  5592,  3145,\n",
       "       63469, 69692, 41363, 67047,  8520, 76753, 51566, 12413, 62720,\n",
       "       49994, 26086, 30721, 49431, 30310, 78416, 61978,  9065, 65489,\n",
       "       30968, 20755, 33017,  5459, 28335, 60437, 55421, 49949, 15331,\n",
       "       64125, 58832, 11247, 76310, 41333, 35733, 20188, 71715, 62444,\n",
       "       16876, 32344,  1570, 74301, 25580,  4156, 55695, 44852, 14939,\n",
       "       29468, 58432, 15055,  2105, 11922, 58284, 14457, 36344,  6073,\n",
       "       21632, 44170, 48057, 66763, 28460, 16336, 66519, 74897, 42563,\n",
       "       51404, 64157, 23187,  6865, 62315, 21347, 51313, 13387,  4485,\n",
       "       58775, 46852,  9643,  2822, 32840, 58849, 76591, 37587, 15045,\n",
       "       26468, 73308, 23299, 43711, 57100, 20173,  9929,  3780, 68825,\n",
       "       13134, 23679, 17506, 39704, 26154, 63471,  1759, 67737, 58155,\n",
       "        1473, 75375, 40450, 73492, 47051, 16608, 33070, 61119, 22254,\n",
       "       77018, 49462, 75289, 51744,  3653, 45234, 77366,  2552, 37848,\n",
       "       50286,   654, 34594, 48527, 79016, 36396,  6147, 19635, 61189,\n",
       "       64674,  5600, 46346,  9263, 57565, 19664, 48277, 32146, 16819,\n",
       "       65782, 22406, 11942, 19585, 38154, 74634, 66242, 46449, 20352,\n",
       "       38724, 20841, 53947, 68541, 20923, 66361, 38529, 38959, 51537,\n",
       "       30285, 45862, 18612, 44840, 34899, 26596, 60166, 38317, 33214,\n",
       "       14921, 61544,   505, 65051, 17900, 61665, 54473, 67053, 56345,\n",
       "       14408, 15995, 10170, 42577, 47512, 53308, 51749, 28650, 17799,\n",
       "       18312, 31236, 57392, 17352, 77954, 65307, 57388, 22724, 24401,\n",
       "       72776,  7148, 21197, 15998, 48357, 56410, 55989, 63264, 71174,\n",
       "       78520,   277, 38622, 39848, 80025, 28220,  5820, 30668, 33516,\n",
       "       15809, 76093, 76687, 29180, 27082,    42, 16035, 27353, 76769,\n",
       "       74859, 75913, 44886, 42345, 21994, 59473, 38817, 40193, 72631,\n",
       "       35498, 66804, 71886, 24171,  4385, 33539,  9284, 38745, 32416,\n",
       "       58681, 42547, 73064, 46714, 14642, 77908, 69887, 61509, 51443,\n",
       "       11761, 53878, 77741, 65368, 51293,  8825, 75076, 41370, 30260,\n",
       "       65643, 75296, 11835, 35795, 72366, 15417,  4645, 69293, 23122,\n",
       "       30101, 39632, 22309, 25522, 43487, 33406, 73090, 31957, 45371,\n",
       "        4741, 43829,  4783, 29525, 73941,  7310, 50075, 54726, 15036,\n",
       "       13770, 17446, 44255, 66316, 36608, 29920, 32264, 41028, 11482,\n",
       "       26118, 41560, 65491, 14434, 26422, 47814, 50059, 31327,  5756,\n",
       "       37977, 19275, 74470, 29530, 42224, 41345, 42809, 12893, 37072,\n",
       "       31136, 76376,  2673, 35978, 48931, 49087, 73356,  3325, 76928,\n",
       "       42054,  5537, 63010, 20316, 69846, 53144, 10796,  4374,  3904,\n",
       "       29517, 17026, 64518, 37493, 71566, 69632, 51787, 56106, 74895,\n",
       "       44090,   123, 25506, 11813,  7021, 62481, 18823, 72123, 28437,\n",
       "       48330, 63506, 33256,  7426, 20085, 23041, 79807,  1104, 57728,\n",
       "       64564, 52809, 40209,  7335, 56318, 59195, 54267, 21961, 37482,\n",
       "       42731, 38483, 38822, 54862, 69883, 67109, 19047, 50278, 56097,\n",
       "       24809,  1640,  9172, 68989, 24890, 41623, 20982, 47995, 16388,\n",
       "       65652, 35810, 18184, 11246, 65585,  7428, 31710, 49818, 53787,\n",
       "       68008, 17514, 10246,  6692,  2533, 33517, 15304, 65018, 23806,\n",
       "       48776, 63706, 65114, 19578,  2751,  3609, 22715, 55775, 73200,\n",
       "       62852, 27704, 46361, 23211, 61595, 22357,  6876, 45636,  9410,\n",
       "       35452, 36963, 51506, 79055, 35207, 25236,  7746, 35274, 40501,\n",
       "       75283, 32069, 11910, 40668, 64545, 43910, 45890, 52698, 77891,\n",
       "       41465, 33723, 73680, 13902, 17040, 33837, 10106, 66953, 28555,\n",
       "        1332, 36428, 21097, 39232,  7069,   375, 71503, 42201, 33931,\n",
       "       38341,  4588, 61557, 40345, 35659, 39161, 17422, 60861, 24810,\n",
       "        1671, 45259, 15690, 16841, 28937,  5754, 18672, 60702, 74665,\n",
       "       11133, 48324, 47982, 28677, 42720, 69621, 47202, 74282, 50564,\n",
       "       26327, 20330, 62616, 59003, 61340,  7238, 43874, 43539, 40625,\n",
       "       54879, 23855, 47902, 30544, 38564, 69740, 33359, 77208, 68663,\n",
       "       59441,  9018, 16924, 13287, 51746, 64130,  4131, 55854, 77884,\n",
       "       44528, 50042, 20725, 37186, 78426, 50172, 44160, 60248, 18934,\n",
       "       27595, 40443, 47035, 35329, 13648, 38552, 40591, 19629, 51380,\n",
       "       29847, 63499, 63440, 31277, 45022, 39461, 78560, 63048, 12287,\n",
       "       71580, 70421, 73966, 69772, 30073, 76240,  2407, 63200, 31392,\n",
       "        3715, 60000, 54743, 70631, 37152,  7562, 49165,  2725, 60958,\n",
       "       59116, 33845, 38884,   311, 79794, 56470, 41931, 80110, 75800,\n",
       "        1802, 38105, 39365,  7506,  5406, 22015,   636, 11515, 80136,\n",
       "       35640, 20312, 39714,  5349, 68569, 36675, 27893,  3621, 49637,\n",
       "       56912, 46863, 71877, 54427, 51607, 21440,  4719, 15985, 16188,\n",
       "       63165, 62365,  6023, 25028, 24636, 28990, 26738, 30404,   319,\n",
       "       32492, 41889, 54637, 28276, 61270,  7786, 67437, 52451, 69648,\n",
       "       51995, 47653, 60504, 71494, 51563, 25178, 69298, 49143,  8688,\n",
       "       71994, 35356, 40792, 41212, 72944, 54443,  6725, 66911, 76733,\n",
       "       53982, 12491,  4027, 19866, 15534, 28243, 24188, 27956, 37745,\n",
       "       79426, 49853, 74554, 30125, 10667, 17571, 48058, 25152, 62184,\n",
       "       59217, 61235,   596, 54324, 52785, 31275, 61267, 31141, 64932,\n",
       "       52631, 19581, 50047,   732, 34661, 17748,  9519, 72329, 35426,\n",
       "       70440, 69226,  1333,  8691, 42173, 51794, 55017, 52195, 37924,\n",
       "       50899, 57431, 22973, 31769, 61839, 27613,  3737, 49313, 16854,\n",
       "       27942, 60445, 12378, 53429, 30030,  2796,  5144, 45701, 31125,\n",
       "        4669, 67905, 43772, 14730,  7253,  4883, 12781, 18214, 11930,\n",
       "       27305, 42196, 26320, 21869,  6771, 20852, 35496, 55249, 20206,\n",
       "       20697, 15092, 50538, 58512, 54014, 10658, 78526, 70530, 31531,\n",
       "       26076, 53887, 67022, 20907, 21293, 59839, 35718, 75866, 47478,\n",
       "       73491, 70626,  9448, 32363, 76714,  2348,  4651, 69442, 11023,\n",
       "        2096,  6818, 45088, 14949, 69597, 10102, 35781,  8138, 53366,\n",
       "        8379, 60923, 59669, 44563, 60200,   412, 62338,  7971, 10933,\n",
       "       30393])"
      ]
     },
     "execution_count": 5,
     "metadata": {},
     "output_type": "execute_result"
    }
   ],
   "source": [
    "nsamples = 1000\n",
    "#nsamples = 5000 # if you want a larger sample\n",
    "downSampleMask = np.random.choice(range(len(ufos)-1), \n",
    "                                  nsamples, replace=False)\n",
    "downSampleMask\n",
    "# so, downsample mask is now a list of random indicies for \n",
    "#  the UFO dataset.  Your's will not be the same because we have not set a seed."
   ]
  },
  {
   "cell_type": "markdown",
   "metadata": {},
   "source": [
    "Let's create a subset of our data with the `.loc` function:"
   ]
  },
  {
   "cell_type": "code",
   "execution_count": 6,
   "metadata": {},
   "outputs": [
    {
     "data": {
      "text/plain": [
       "1000"
      ]
     },
     "execution_count": 6,
     "metadata": {},
     "output_type": "execute_result"
    }
   ],
   "source": [
    "ufosDS = ufos.loc[downSampleMask]\n",
    "len(ufosDS)\n",
    "# so much shorter"
   ]
  },
  {
   "cell_type": "markdown",
   "metadata": {},
   "source": [
    "We can also see that this is saved as a dataframe:"
   ]
  },
  {
   "cell_type": "code",
   "execution_count": 7,
   "metadata": {},
   "outputs": [
    {
     "data": {
      "text/html": [
       "<div>\n",
       "<style scoped>\n",
       "    .dataframe tbody tr th:only-of-type {\n",
       "        vertical-align: middle;\n",
       "    }\n",
       "\n",
       "    .dataframe tbody tr th {\n",
       "        vertical-align: top;\n",
       "    }\n",
       "\n",
       "    .dataframe thead th {\n",
       "        text-align: right;\n",
       "    }\n",
       "</style>\n",
       "<table border=\"1\" class=\"dataframe\">\n",
       "  <thead>\n",
       "    <tr style=\"text-align: right;\">\n",
       "      <th></th>\n",
       "      <th>date</th>\n",
       "      <th>city</th>\n",
       "      <th>state</th>\n",
       "      <th>country</th>\n",
       "      <th>shape</th>\n",
       "      <th>duration_seconds</th>\n",
       "      <th>duration</th>\n",
       "      <th>comment</th>\n",
       "      <th>report_date</th>\n",
       "      <th>latitude</th>\n",
       "      <th>longitude</th>\n",
       "    </tr>\n",
       "  </thead>\n",
       "  <tbody>\n",
       "    <tr>\n",
       "      <th>70752</th>\n",
       "      <td>2012-08-30 22:55:00</td>\n",
       "      <td>quarryville</td>\n",
       "      <td>pa</td>\n",
       "      <td>us</td>\n",
       "      <td>fireball</td>\n",
       "      <td>600.0</td>\n",
       "      <td>10 minutes</td>\n",
       "      <td>Orange Fireball sighted in Solanco</td>\n",
       "      <td>2012-09-24</td>\n",
       "      <td>39.896944</td>\n",
       "      <td>-76.163889</td>\n",
       "    </tr>\n",
       "    <tr>\n",
       "      <th>66128</th>\n",
       "      <td>2013-08-14 22:39:00</td>\n",
       "      <td>santa fe</td>\n",
       "      <td>tx</td>\n",
       "      <td>us</td>\n",
       "      <td>fireball</td>\n",
       "      <td>240.0</td>\n",
       "      <td>4 minutes</td>\n",
       "      <td>2 stationary fireballs.</td>\n",
       "      <td>2013-08-30</td>\n",
       "      <td>29.377778</td>\n",
       "      <td>-95.105556</td>\n",
       "    </tr>\n",
       "    <tr>\n",
       "      <th>65793</th>\n",
       "      <td>2011-08-13 04:00:00</td>\n",
       "      <td>apple valley</td>\n",
       "      <td>ca</td>\n",
       "      <td>us</td>\n",
       "      <td>sphere</td>\n",
       "      <td>15.0</td>\n",
       "      <td>15 sec</td>\n",
       "      <td>Large star like object &amp;#44 moving with a high...</td>\n",
       "      <td>2011-08-21</td>\n",
       "      <td>34.500833</td>\n",
       "      <td>-117.185000</td>\n",
       "    </tr>\n",
       "    <tr>\n",
       "      <th>19456</th>\n",
       "      <td>2007-12-21 18:04:00</td>\n",
       "      <td>houston</td>\n",
       "      <td>tx</td>\n",
       "      <td>us</td>\n",
       "      <td>flash</td>\n",
       "      <td>15.0</td>\n",
       "      <td>15 sec. in 1-2 sec. inter</td>\n",
       "      <td>Flashes of Greenish/Blue light over Clear Lake</td>\n",
       "      <td>2008-03-04</td>\n",
       "      <td>29.763056</td>\n",
       "      <td>-95.363056</td>\n",
       "    </tr>\n",
       "    <tr>\n",
       "      <th>30991</th>\n",
       "      <td>2014-03-12 06:25:00</td>\n",
       "      <td>sonoma</td>\n",
       "      <td>ca</td>\n",
       "      <td>us</td>\n",
       "      <td>unknown</td>\n",
       "      <td>7200.0</td>\n",
       "      <td>2 hours</td>\n",
       "      <td>Strange light stationary in the sky.</td>\n",
       "      <td>2014-03-18</td>\n",
       "      <td>38.291944</td>\n",
       "      <td>-122.456944</td>\n",
       "    </tr>\n",
       "    <tr>\n",
       "      <th>...</th>\n",
       "      <td>...</td>\n",
       "      <td>...</td>\n",
       "      <td>...</td>\n",
       "      <td>...</td>\n",
       "      <td>...</td>\n",
       "      <td>...</td>\n",
       "      <td>...</td>\n",
       "      <td>...</td>\n",
       "      <td>...</td>\n",
       "      <td>...</td>\n",
       "      <td>...</td>\n",
       "    </tr>\n",
       "    <tr>\n",
       "      <th>412</th>\n",
       "      <td>2009-10-11 04:00:00</td>\n",
       "      <td>crisfield</td>\n",
       "      <td>md</td>\n",
       "      <td>us</td>\n",
       "      <td>light</td>\n",
       "      <td>600.0</td>\n",
       "      <td>5 to 10 min</td>\n",
       "      <td>A bright light moving across the sky getting c...</td>\n",
       "      <td>2009-12-12</td>\n",
       "      <td>37.983333</td>\n",
       "      <td>-75.854167</td>\n",
       "    </tr>\n",
       "    <tr>\n",
       "      <th>62338</th>\n",
       "      <td>2011-07-04 22:00:00</td>\n",
       "      <td>greenwood</td>\n",
       "      <td>in</td>\n",
       "      <td>us</td>\n",
       "      <td>fireball</td>\n",
       "      <td>1800.0</td>\n",
       "      <td>30 minutes</td>\n",
       "      <td>Six Fireballs Spotted</td>\n",
       "      <td>2011-07-06</td>\n",
       "      <td>39.613611</td>\n",
       "      <td>-86.106667</td>\n",
       "    </tr>\n",
       "    <tr>\n",
       "      <th>7971</th>\n",
       "      <td>2006-11-11 01:00:00</td>\n",
       "      <td>cold lake (canada)</td>\n",
       "      <td>ab</td>\n",
       "      <td>ca</td>\n",
       "      <td>NaN</td>\n",
       "      <td>120.0</td>\n",
       "      <td>2 minutes</td>\n",
       "      <td>Two occasions of possible humanoid extraterres...</td>\n",
       "      <td>2013-02-04</td>\n",
       "      <td>54.465000</td>\n",
       "      <td>-110.183056</td>\n",
       "    </tr>\n",
       "    <tr>\n",
       "      <th>10933</th>\n",
       "      <td>1999-01-01 21:00:00</td>\n",
       "      <td>cheaha mountain</td>\n",
       "      <td>al</td>\n",
       "      <td>NaN</td>\n",
       "      <td>triangle</td>\n",
       "      <td>2400.0</td>\n",
       "      <td>40 min.</td>\n",
       "      <td>I saw it hovering in the air and it chased me ...</td>\n",
       "      <td>1999-12-16</td>\n",
       "      <td>33.485664</td>\n",
       "      <td>-85.809130</td>\n",
       "    </tr>\n",
       "    <tr>\n",
       "      <th>30393</th>\n",
       "      <td>1999-03-11 02:35:00</td>\n",
       "      <td>greendale</td>\n",
       "      <td>wi</td>\n",
       "      <td>us</td>\n",
       "      <td>diamond</td>\n",
       "      <td>300.0</td>\n",
       "      <td>5 min</td>\n",
       "      <td>I work in a suberb of milwaukee &amp;#44Wi and it ...</td>\n",
       "      <td>1999-04-02</td>\n",
       "      <td>42.940556</td>\n",
       "      <td>-87.995833</td>\n",
       "    </tr>\n",
       "  </tbody>\n",
       "</table>\n",
       "<p>1000 rows × 11 columns</p>\n",
       "</div>"
      ],
      "text/plain": [
       "                     date                city state country     shape  \\\n",
       "70752 2012-08-30 22:55:00         quarryville    pa      us  fireball   \n",
       "66128 2013-08-14 22:39:00            santa fe    tx      us  fireball   \n",
       "65793 2011-08-13 04:00:00        apple valley    ca      us    sphere   \n",
       "19456 2007-12-21 18:04:00             houston    tx      us     flash   \n",
       "30991 2014-03-12 06:25:00              sonoma    ca      us   unknown   \n",
       "...                   ...                 ...   ...     ...       ...   \n",
       "412   2009-10-11 04:00:00           crisfield    md      us     light   \n",
       "62338 2011-07-04 22:00:00           greenwood    in      us  fireball   \n",
       "7971  2006-11-11 01:00:00  cold lake (canada)    ab      ca       NaN   \n",
       "10933 1999-01-01 21:00:00     cheaha mountain    al     NaN  triangle   \n",
       "30393 1999-03-11 02:35:00           greendale    wi      us   diamond   \n",
       "\n",
       "       duration_seconds                   duration  \\\n",
       "70752             600.0                 10 minutes   \n",
       "66128             240.0                  4 minutes   \n",
       "65793              15.0                     15 sec   \n",
       "19456              15.0  15 sec. in 1-2 sec. inter   \n",
       "30991            7200.0                    2 hours   \n",
       "...                 ...                        ...   \n",
       "412               600.0                5 to 10 min   \n",
       "62338            1800.0                 30 minutes   \n",
       "7971              120.0                  2 minutes   \n",
       "10933            2400.0                    40 min.   \n",
       "30393             300.0                      5 min   \n",
       "\n",
       "                                                 comment report_date  \\\n",
       "70752                 Orange Fireball sighted in Solanco  2012-09-24   \n",
       "66128                            2 stationary fireballs.  2013-08-30   \n",
       "65793  Large star like object &#44 moving with a high...  2011-08-21   \n",
       "19456     Flashes of Greenish/Blue light over Clear Lake  2008-03-04   \n",
       "30991               Strange light stationary in the sky.  2014-03-18   \n",
       "...                                                  ...         ...   \n",
       "412    A bright light moving across the sky getting c...  2009-12-12   \n",
       "62338                              Six Fireballs Spotted  2011-07-06   \n",
       "7971   Two occasions of possible humanoid extraterres...  2013-02-04   \n",
       "10933  I saw it hovering in the air and it chased me ...  1999-12-16   \n",
       "30393  I work in a suberb of milwaukee &#44Wi and it ...  1999-04-02   \n",
       "\n",
       "        latitude   longitude  \n",
       "70752  39.896944  -76.163889  \n",
       "66128  29.377778  -95.105556  \n",
       "65793  34.500833 -117.185000  \n",
       "19456  29.763056  -95.363056  \n",
       "30991  38.291944 -122.456944  \n",
       "...          ...         ...  \n",
       "412    37.983333  -75.854167  \n",
       "62338  39.613611  -86.106667  \n",
       "7971   54.465000 -110.183056  \n",
       "10933  33.485664  -85.809130  \n",
       "30393  42.940556  -87.995833  \n",
       "\n",
       "[1000 rows x 11 columns]"
      ]
     },
     "execution_count": 7,
     "metadata": {},
     "output_type": "execute_result"
    }
   ],
   "source": [
    "ufosDS"
   ]
  },
  {
   "cell_type": "markdown",
   "metadata": {},
   "source": [
    "Lets make a super quick scatter plot to remind ourselves what this looks like:"
   ]
  },
  {
   "cell_type": "code",
   "execution_count": 9,
   "metadata": {},
   "outputs": [
    {
     "data": {
      "application/vnd.jupyter.widget-view+json": {
       "model_id": "23161a5818934e5dbfdbab088387fdbd",
       "version_major": 2,
       "version_minor": 0
      },
      "text/plain": [
       "Figure(axes=[Axis(label='Longitude', scale=LinearScale()), Axis(label='Latitude', orientation='vertical', scal…"
      ]
     },
     "metadata": {},
     "output_type": "display_data"
    }
   ],
   "source": [
    "# Set up x/y scales\n",
    "x_sc = bqplot.LinearScale()\n",
    "y_sc = bqplot.LinearScale()\n",
    "\n",
    "# Set p axis\n",
    "x_ax = bqplot.Axis(scale = x_sc, label='Longitude')\n",
    "y_ax = bqplot.Axis(scale = y_sc, \n",
    "                   orientation = 'vertical', \n",
    "                   label='Latitude')\n",
    "\n",
    "#(1) set up marks\n",
    "scatters = bqplot.Scatter(x = ufosDS['longitude'],\n",
    "                          y = ufosDS['latitude'],\n",
    "                          scales = {'x': x_sc, 'y': y_sc})\n",
    "\n",
    "fig = bqplot.Figure(marks = [scatters], axes = [x_ax, y_ax]) \n",
    "fig"
   ]
  },
  {
   "cell_type": "markdown",
   "metadata": {},
   "source": [
    "Note I haven't added in colors or interactions.  Let's at least add some colors in:"
   ]
  },
  {
   "cell_type": "code",
   "execution_count": 10,
   "metadata": {},
   "outputs": [
    {
     "data": {
      "application/vnd.jupyter.widget-view+json": {
       "model_id": "3953e89f62174d2198ea1f348f3beeae",
       "version_major": 2,
       "version_minor": 0
      },
      "text/plain": [
       "Figure(axes=[Axis(label='Longitude', scale=LinearScale()), Axis(label='Latitude', orientation='vertical', scal…"
      ]
     },
     "metadata": {},
     "output_type": "display_data"
    }
   ],
   "source": [
    "# lets make a super quick scatter plot to remind ourselves what this looks like:\n",
    "x_sc = bqplot.LinearScale()\n",
    "y_sc = bqplot.LinearScale()\n",
    "\n",
    "x_ax = bqplot.Axis(scale = x_sc, label='Longitude')\n",
    "y_ax = bqplot.Axis(scale = y_sc, \n",
    "                   orientation = 'vertical', \n",
    "                   label='Latitude')\n",
    "\n",
    "\n",
    "# Let's add in a color scale\n",
    "c_sc = bqplot.ColorScale() # color scale\n",
    "# color axes:\n",
    "c_ax = bqplot.ColorAxis(scale = c_sc, label='Duration in sec', orientation = 'vertical', side = 'right')\n",
    "\n",
    "# now replot:\n",
    "scatters = bqplot.Scatter(x = ufosDS['longitude'],\n",
    "                          y = ufosDS['latitude'],\n",
    "                          color=ufosDS['duration_seconds'],\n",
    "                          scales = {'x': x_sc, 'y': y_sc, 'color':c_sc})\n",
    "\n",
    "\n",
    "fig = bqplot.Figure(marks = [scatters], axes = [x_ax, y_ax, c_ax]) \n",
    "fig"
   ]
  },
  {
   "cell_type": "markdown",
   "metadata": {},
   "source": [
    "You'll note that this is a pretty muted color map.  This is because we are coloring by duration, and if you recall there is a *huge* range in durations:"
   ]
  },
  {
   "cell_type": "code",
   "execution_count": 11,
   "metadata": {},
   "outputs": [
    {
     "data": {
      "text/plain": [
       "(0.5, 259200.0)"
      ]
     },
     "execution_count": 11,
     "metadata": {},
     "output_type": "execute_result"
    }
   ],
   "source": [
    "ufosDS['duration_seconds'].min(), ufosDS['duration_seconds'].max()"
   ]
  },
  {
   "cell_type": "markdown",
   "metadata": {},
   "source": [
    "To account for this, let's take the log-base-10 of the duration when we plot.  We should make sure we specify this on our color axis (color bar) label:"
   ]
  },
  {
   "cell_type": "code",
   "execution_count": 12,
   "metadata": {},
   "outputs": [
    {
     "data": {
      "application/vnd.jupyter.widget-view+json": {
       "model_id": "0fadb1008e324161b0f94824206757a2",
       "version_major": 2,
       "version_minor": 0
      },
      "text/plain": [
       "Figure(axes=[Axis(label='Longitude', scale=LinearScale()), Axis(label='Latitude', orientation='vertical', scal…"
      ]
     },
     "metadata": {},
     "output_type": "display_data"
    }
   ],
   "source": [
    "# lets make a super quick scatter plot to remind ourselves what this looks like:\n",
    "x_sc = bqplot.LinearScale()\n",
    "y_sc = bqplot.LinearScale()\n",
    "\n",
    "x_ax = bqplot.Axis(scale = x_sc, label='Longitude')\n",
    "y_ax = bqplot.Axis(scale = y_sc, \n",
    "                   orientation = 'vertical', \n",
    "                   label='Latitude')\n",
    "\n",
    "\n",
    "# (2) recall we can also color by things like duration\n",
    "c_sc = bqplot.ColorScale() # color scale\n",
    "\n",
    "# updated color axis with log scaling\n",
    "c_ax = bqplot.ColorAxis(scale = c_sc, label='log(sec)', \n",
    "                        orientation = 'vertical', side = 'right')\n",
    "scatters = bqplot.Scatter(x = ufosDS['longitude'],\n",
    "                          y = ufosDS['latitude'],\n",
    "                          color=np.log10(ufosDS['duration_seconds']), # here we take log, base 10\n",
    "                          scales = {'x': x_sc, 'y': y_sc, 'color':c_sc})\n",
    "\n",
    "fig = bqplot.Figure(marks = [scatters], axes = [x_ax, y_ax, c_ax]) \n",
    "fig"
   ]
  },
  {
   "cell_type": "markdown",
   "metadata": {},
   "source": [
    "## Heatmap Dashboard with our UFO dataset.\n",
    "\n",
    "Now we are going to use our heatmap idea to plot this data again. Note this will shmear out a lot of the nice map stuff we see above since we will be binning in lat/long. Don't worry!  We'll talk about making maps in the 2nd part of class. \n",
    "\n",
    "What should we color by?  Lets do by duration again.\n",
    "\n",
    "To get this to work with our heatmap, we're going to have to do some rebinning. Right now, our data is all in 1 long list we need to rebin things in a 2d histogram where the x axis is longitude & y is latitude.\n",
    "\n",
    "There are a few ways to do this, we'll use numpy to do our binning and use this as input into `bqplot.GridHeatMap`.  Before that, we can get a sense of what we think things will look like using matplotlib's `hist2d`.  We'll use the siting duration as *weights* into our histogram - so bins that have several long sitings will be counted as significant as well as bins that have multiple short sitings:"
   ]
  },
  {
   "cell_type": "code",
   "execution_count": 33,
   "metadata": {},
   "outputs": [
    {
     "data": {
      "image/png": "[encoded data removed]",
      "text/plain": [
       "<Figure size 432x288 with 2 Axes>"
      ]
     },
     "metadata": {
      "needs_background": "light"
     },
     "output_type": "display_data"
    }
   ],
   "source": [
    "plt.hist2d(ufos['longitude'], ufos['latitude'], weights=ufos['duration_seconds'], bins=20, cmap='RdPu')\n",
    "cb = plt.colorbar()\n",
    "cb.set_label('counts in bin')"
   ]
  },
  {
   "cell_type": "markdown",
   "metadata": {},
   "source": [
    "Note that here I am using the whole UFO dataset again, since we are rebinning anyway.  Feel free to use `ufoDS` if it works better on your computer."
   ]
  },
  {
   "cell_type": "markdown",
   "metadata": {},
   "source": [
    "Again, we know that the duration should be log scaled, and we can do that with the `SymLogNorm` color scale in matplotlib if we want:"
   ]
  },
  {
   "cell_type": "code",
   "execution_count": 34,
   "metadata": {},
   "outputs": [
    {
     "data": {
      "image/png": "[encoded data removed]",
      "text/plain": [
       "<Figure size 432x288 with 2 Axes>"
      ]
     },
     "metadata": {
      "needs_background": "light"
     },
     "output_type": "display_data"
    }
   ],
   "source": [
    "import matplotlib.colors as mpl_colors\n",
    "plt.hist2d(ufos['longitude'], ufos['latitude'], weights=ufos['duration_seconds'], \n",
    "           bins=20, cmap='RdPu', norm = mpl_colors.SymLogNorm(10))\n",
    "cb = plt.colorbar()\n",
    "cb.set_label('counts in bin')"
   ]
  },
  {
   "cell_type": "markdown",
   "metadata": {},
   "source": [
    "Now this is starting to look a bit more like our scatter plot, but we can more easily make out areas of long duration (like in the US).  Ok, we want to incorporate interactivity, so let's use the `bqplot` engine + our ideas of the heatmap marks that we used last time to create our own clickable map.\n",
    "\n",
    "Let's use `numpy`'s 2d histogram function to do that for us:"
   ]
  },
  {
   "cell_type": "code",
   "execution_count": 35,
   "metadata": {
    "scrolled": true
   },
   "outputs": [
    {
     "data": {
      "text/plain": [
       "array([[0.00000000e+00, 0.00000000e+00, 0.00000000e+00, 0.00000000e+00,\n",
       "        0.00000000e+00, 0.00000000e+00, 0.00000000e+00, 0.00000000e+00,\n",
       "        1.80000000e+03, 0.00000000e+00, 0.00000000e+00, 0.00000000e+00,\n",
       "        0.00000000e+00, 4.70640000e+04, 0.00000000e+00, 0.00000000e+00,\n",
       "        0.00000000e+00, 1.20300000e+03, 7.37100000e+03, 3.70000000e+03],\n",
       "       [0.00000000e+00, 0.00000000e+00, 0.00000000e+00, 0.00000000e+00,\n",
       "        0.00000000e+00, 0.00000000e+00, 0.00000000e+00, 0.00000000e+00,\n",
       "        1.50000000e+01, 0.00000000e+00, 0.00000000e+00, 0.00000000e+00,\n",
       "        0.00000000e+00, 6.75425400e+06, 0.00000000e+00, 0.00000000e+00,\n",
       "        0.00000000e+00, 0.00000000e+00, 9.63978000e+05, 5.10500000e+03],\n",
       "       [2.00000000e+00, 0.00000000e+00, 0.00000000e+00, 0.00000000e+00,\n",
       "        0.00000000e+00, 0.00000000e+00, 0.00000000e+00, 0.00000000e+00,\n",
       "        0.00000000e+00, 8.78160000e+04, 0.00000000e+00, 0.00000000e+00,\n",
       "        0.00000000e+00, 0.00000000e+00, 0.00000000e+00, 4.74493000e+05,\n",
       "        1.28508831e+06, 4.91300000e+05, 9.89250000e+04, 2.26200000e+04],\n",
       "       [0.00000000e+00, 0.00000000e+00, 0.00000000e+00, 0.00000000e+00,\n",
       "        0.00000000e+00, 0.00000000e+00, 0.00000000e+00, 1.00000000e+00,\n",
       "        0.00000000e+00, 0.00000000e+00, 0.00000000e+00, 0.00000000e+00,\n",
       "        0.00000000e+00, 6.35797000e+05, 2.87622208e+07, 3.54044364e+07,\n",
       "        6.28236612e+07, 1.00635500e+06, 5.77100000e+03, 0.00000000e+00],\n",
       "       [0.00000000e+00, 0.00000000e+00, 0.00000000e+00, 0.00000000e+00,\n",
       "        0.00000000e+00, 0.00000000e+00, 0.00000000e+00, 0.00000000e+00,\n",
       "        0.00000000e+00, 0.00000000e+00, 3.00000000e+01, 0.00000000e+00,\n",
       "        3.60830000e+04, 3.59955000e+05, 1.88657418e+07, 9.50278891e+07,\n",
       "        6.11220969e+06, 7.07408000e+05, 6.45000000e+02, 0.00000000e+00],\n",
       "       [0.00000000e+00, 0.00000000e+00, 0.00000000e+00, 0.00000000e+00,\n",
       "        0.00000000e+00, 6.00000000e+01, 1.77155100e+04, 0.00000000e+00,\n",
       "        4.22200000e+03, 6.31242000e+06, 4.30800000e+03, 3.72908800e+04,\n",
       "        1.21576500e+06, 5.15448200e+05, 6.78530713e+07, 7.27040887e+07,\n",
       "        1.53348520e+08, 2.02530000e+04, 3.00000000e+01, 4.50000000e+01],\n",
       "       [0.00000000e+00, 0.00000000e+00, 0.00000000e+00, 0.00000000e+00,\n",
       "        0.00000000e+00, 3.70000000e+02, 9.12210000e+04, 1.26450000e+04,\n",
       "        3.18560000e+04, 0.00000000e+00, 2.42000000e+03, 7.77000000e+03,\n",
       "        5.10860000e+04, 6.33667000e+05, 7.40500000e+03, 1.88000000e+03,\n",
       "        8.92232000e+05, 3.73700000e+03, 0.00000000e+00, 0.00000000e+00],\n",
       "       [0.00000000e+00, 0.00000000e+00, 0.00000000e+00, 0.00000000e+00,\n",
       "        0.00000000e+00, 0.00000000e+00, 1.05000000e+03, 7.48120000e+04,\n",
       "        4.16230000e+04, 1.98900000e+04, 4.20000000e+02, 0.00000000e+00,\n",
       "        0.00000000e+00, 0.00000000e+00, 0.00000000e+00, 1.83000000e+03,\n",
       "        0.00000000e+00, 0.00000000e+00, 3.00000000e+02, 0.00000000e+00],\n",
       "       [0.00000000e+00, 0.00000000e+00, 0.00000000e+00, 0.00000000e+00,\n",
       "        0.00000000e+00, 0.00000000e+00, 0.00000000e+00, 0.00000000e+00,\n",
       "        2.78630000e+04, 0.00000000e+00, 0.00000000e+00, 0.00000000e+00,\n",
       "        3.96000000e+03, 0.00000000e+00, 1.20000000e+02, 9.30000000e+01,\n",
       "        0.00000000e+00, 0.00000000e+00, 7.89300000e+03, 6.00000000e+03],\n",
       "       [0.00000000e+00, 0.00000000e+00, 0.00000000e+00, 0.00000000e+00,\n",
       "        0.00000000e+00, 0.00000000e+00, 0.00000000e+00, 0.00000000e+00,\n",
       "        9.00000000e+02, 0.00000000e+00, 0.00000000e+00, 5.00000000e+00,\n",
       "        0.00000000e+00, 0.00000000e+00, 1.02010000e+04, 5.61210000e+04,\n",
       "        5.47800000e+03, 1.26257935e+08, 3.18400000e+04, 0.00000000e+00],\n",
       "       [0.00000000e+00, 0.00000000e+00, 0.00000000e+00, 0.00000000e+00,\n",
       "        0.00000000e+00, 0.00000000e+00, 1.09010000e+04, 1.56000000e+03,\n",
       "        0.00000000e+00, 0.00000000e+00, 6.00000000e+01, 6.27000000e+03,\n",
       "        0.00000000e+00, 0.00000000e+00, 1.80000000e+02, 7.47150000e+04,\n",
       "        9.65608500e+06, 2.93482580e+06, 4.12235000e+04, 2.16800000e+03],\n",
       "       [0.00000000e+00, 0.00000000e+00, 0.00000000e+00, 0.00000000e+00,\n",
       "        0.00000000e+00, 0.00000000e+00, 4.79700000e+04, 2.72000000e+04,\n",
       "        7.28000000e+03, 0.00000000e+00, 4.20000000e+02, 0.00000000e+00,\n",
       "        0.00000000e+00, 3.72000000e+03, 7.04730000e+04, 2.69006700e+06,\n",
       "        5.97460000e+04, 2.63280000e+04, 7.25901000e+03, 4.80000000e+02],\n",
       "       [0.00000000e+00, 0.00000000e+00, 0.00000000e+00, 0.00000000e+00,\n",
       "        0.00000000e+00, 0.00000000e+00, 0.00000000e+00, 0.00000000e+00,\n",
       "        0.00000000e+00, 4.00000000e+00, 1.26693000e+04, 2.74500000e+03,\n",
       "        1.20000000e+02, 1.49500000e+03, 6.19925000e+05, 6.34558600e+06,\n",
       "        3.35000000e+02, 4.65000000e+02, 0.00000000e+00, 0.00000000e+00],\n",
       "       [0.00000000e+00, 0.00000000e+00, 0.00000000e+00, 0.00000000e+00,\n",
       "        0.00000000e+00, 0.00000000e+00, 0.00000000e+00, 0.00000000e+00,\n",
       "        1.11500000e+03, 0.00000000e+00, 0.00000000e+00, 0.00000000e+00,\n",
       "        0.00000000e+00, 9.06200000e+03, 6.12000000e+03, 1.23500000e+04,\n",
       "        1.83300000e+03, 1.20000000e+03, 0.00000000e+00, 0.00000000e+00],\n",
       "       [0.00000000e+00, 0.00000000e+00, 0.00000000e+00, 0.00000000e+00,\n",
       "        0.00000000e+00, 0.00000000e+00, 6.06500000e+03, 0.00000000e+00,\n",
       "        0.00000000e+00, 0.00000000e+00, 9.00000000e+01, 2.46850000e+04,\n",
       "        6.24540000e+04, 4.09906000e+05, 2.72113200e+06, 1.80000000e+02,\n",
       "        1.05000000e+04, 1.00000000e+01, 0.00000000e+00, 0.00000000e+00],\n",
       "       [0.00000000e+00, 0.00000000e+00, 0.00000000e+00, 0.00000000e+00,\n",
       "        0.00000000e+00, 0.00000000e+00, 0.00000000e+00, 0.00000000e+00,\n",
       "        0.00000000e+00, 8.55000000e+02, 5.68070000e+04, 3.29310000e+04,\n",
       "        3.43550000e+04, 7.74800000e+03, 2.46500000e+03, 1.20000000e+03,\n",
       "        1.80000000e+02, 0.00000000e+00, 0.00000000e+00, 0.00000000e+00],\n",
       "       [0.00000000e+00, 0.00000000e+00, 0.00000000e+00, 0.00000000e+00,\n",
       "        0.00000000e+00, 0.00000000e+00, 7.82235000e+04, 1.41000000e+03,\n",
       "        0.00000000e+00, 2.62000000e+02, 1.59050000e+04, 5.27311300e+06,\n",
       "        5.70430000e+04, 1.50990000e+04, 1.42420000e+04, 2.18490000e+04,\n",
       "        2.54000000e+02, 0.00000000e+00, 0.00000000e+00, 0.00000000e+00],\n",
       "       [0.00000000e+00, 0.00000000e+00, 0.00000000e+00, 0.00000000e+00,\n",
       "        0.00000000e+00, 4.02105000e+03, 3.74460000e+04, 1.27389600e+06,\n",
       "        3.00000000e+01, 1.36700000e+03, 0.00000000e+00, 7.32000000e+03,\n",
       "        0.00000000e+00, 4.20000000e+02, 5.29100000e+03, 2.79550000e+04,\n",
       "        1.22000000e+02, 0.00000000e+00, 0.00000000e+00, 0.00000000e+00],\n",
       "       [0.00000000e+00, 0.00000000e+00, 0.00000000e+00, 0.00000000e+00,\n",
       "        0.00000000e+00, 8.65800000e+04, 5.28249450e+05, 3.87328000e+05,\n",
       "        1.93230000e+04, 1.08000000e+04, 3.00000000e+00, 0.00000000e+00,\n",
       "        9.00000000e+02, 0.00000000e+00, 0.00000000e+00, 0.00000000e+00,\n",
       "        0.00000000e+00, 6.00000000e+01, 0.00000000e+00, 0.00000000e+00],\n",
       "       [0.00000000e+00, 0.00000000e+00, 0.00000000e+00, 0.00000000e+00,\n",
       "        7.20010000e+01, 8.43470000e+04, 2.18700000e+04, 0.00000000e+00,\n",
       "        3.61000000e+03, 0.00000000e+00, 0.00000000e+00, 0.00000000e+00,\n",
       "        0.00000000e+00, 0.00000000e+00, 0.00000000e+00, 0.00000000e+00,\n",
       "        0.00000000e+00, 0.00000000e+00, 0.00000000e+00, 0.00000000e+00]])"
      ]
     },
     "execution_count": 35,
     "metadata": {},
     "output_type": "execute_result"
    }
   ],
   "source": [
    "# ***START WITH 10 EACH**\n",
    "nlong = 20 \n",
    "nlat = 20\n",
    "\n",
    "#(1)\n",
    "hist2d, long_edges, lat_edges = np.histogram2d(ufos['longitude'], \n",
    "                                               ufos['latitude'], \n",
    "                                               weights=ufos['duration_seconds'], \n",
    "                                              bins=[nlong,nlat])\n",
    "\n",
    "# this returns the TOTAL duration of ufo events in each bin\n",
    "# Let's take a quick look at this data\n",
    "hist2d"
   ]
  },
  {
   "cell_type": "code",
   "execution_count": 43,
   "metadata": {},
   "outputs": [
    {
     "data": {
      "text/plain": [
       "(153348519.88, 0.0)"
      ]
     },
     "execution_count": 43,
     "metadata": {},
     "output_type": "execute_result"
    }
   ],
   "source": [
    "hist2d.max(), hist2d.min() # a pretty big range!"
   ]
  },
  {
   "cell_type": "markdown",
   "metadata": {},
   "source": [
    "Let's take a quick look at this with `imshow` in `matplotlib`:"
   ]
  },
  {
   "cell_type": "code",
   "execution_count": 36,
   "metadata": {},
   "outputs": [
    {
     "data": {
      "text/plain": [
       "<matplotlib.image.AxesImage at 0x7f9d119791d0>"
      ]
     },
     "execution_count": 36,
     "metadata": {},
     "output_type": "execute_result"
    },
    {
     "data": {
      "image/png": "[encoded data removed]",
      "text/plain": [
       "<Figure size 432x288 with 1 Axes>"
      ]
     },
     "metadata": {
      "needs_background": "light"
     },
     "output_type": "display_data"
    }
   ],
   "source": [
    "plt.imshow(hist2d, cmap='RdPu', norm = mpl_colors.SymLogNorm(10))"
   ]
  },
  {
   "cell_type": "markdown",
   "metadata": {},
   "source": [
    "Note that the x/y labels are just the bin indicies.  But even so, we can see that this is rotated to what we want to acutally plot!  \n",
    "\n",
    "Different methods of histogramming will give you different shaped outputs.  Worse still, depending on what viz engine you're using, it expects different orientations of the data going in!  My suggestion is to experiement and make sure you're data is in the correct orientation by plotting it a few times.\n",
    "\n",
    "For `bqplot`, we actually want our orientation to be *upsidedown* which we can get by taking the transpose of `hist2d`:"
   ]
  },
  {
   "cell_type": "code",
   "execution_count": 42,
   "metadata": {},
   "outputs": [
    {
     "data": {
      "text/plain": [
       "<matplotlib.image.AxesImage at 0x7f9cc05b7150>"
      ]
     },
     "execution_count": 42,
     "metadata": {},
     "output_type": "execute_result"
    },
    {
     "data": {
      "image/png": "[encoded data removed]",
      "text/plain": [
       "<Figure size 432x288 with 1 Axes>"
      ]
     },
     "metadata": {
      "needs_background": "light"
     },
     "output_type": "display_data"
    }
   ],
   "source": [
    "plt.imshow(hist2d.T, cmap='RdPu', norm = mpl_colors.SymLogNorm(10))"
   ]
  },
  {
   "cell_type": "markdown",
   "metadata": {},
   "source": [
    "Ok, let's make our histogramming more complex.  \n",
    "\n",
    "As an aside: we want to treat the histogram as a probability instead of a total weighted count:"
   ]
  },
  {
   "cell_type": "code",
   "execution_count": 48,
   "metadata": {},
   "outputs": [
    {
     "data": {
      "text/plain": [
       "(0.0015329854771788194, 0.0)"
      ]
     },
     "execution_count": 48,
     "metadata": {},
     "output_type": "execute_result"
    }
   ],
   "source": [
    "hist2d, long_edges, lat_edges = np.histogram2d(ufos['longitude'], \n",
    "                                               ufos['latitude'], \n",
    "                                               weights=ufos['duration_seconds'],\n",
    "                                              density=True, \n",
    "                                              bins = [nlong,nlat])\n",
    "hist2d.max(), hist2d.min()"
   ]
  },
  {
   "cell_type": "markdown",
   "metadata": {},
   "source": [
    "What are the shapes of the different outputs here?"
   ]
  },
  {
   "cell_type": "code",
   "execution_count": 50,
   "metadata": {},
   "outputs": [
    {
     "data": {
      "text/plain": [
       "((20, 20), (21,), (21,))"
      ]
     },
     "execution_count": 50,
     "metadata": {},
     "output_type": "execute_result"
    }
   ],
   "source": [
    "hist2d.shape, long_edges.shape, lat_edges.shape"
   ]
  },
  {
   "cell_type": "markdown",
   "metadata": {},
   "source": [
    "Note that the long/lat edges have 1 more count than the histogram size.  This is because they are indeed edges.  To get bin centers, which is what we want to do for plotting we can do:"
   ]
  },
  {
   "cell_type": "code",
   "execution_count": 53,
   "metadata": {},
   "outputs": [
    {
     "data": {
      "text/plain": [
       "array([-167.78055671, -150.02555893, -132.27056115, -114.51556337,\n",
       "        -96.76056559,  -79.00556781,  -61.25057003,  -43.49557225,\n",
       "        -25.74057447,   -7.98557669,    9.76942109,   27.52441887,\n",
       "         45.27941665,   63.03441443,   80.78941221,   98.54440999,\n",
       "        116.29940777,  134.05440555,  151.80940333,  169.56440111])"
      ]
     },
     "execution_count": 53,
     "metadata": {},
     "output_type": "execute_result"
    }
   ],
   "source": [
    "long_centers = (long_edges[:-1] + long_edges[1:]) / 2\n",
    "long_centers"
   ]
  },
  {
   "cell_type": "code",
   "execution_count": 55,
   "metadata": {},
   "outputs": [
    {
     "data": {
      "text/plain": [
       "array([-78.9736832, -71.1955456, -63.417408 , -55.6392704, -47.8611328,\n",
       "       -40.0829952, -32.3048576, -24.52672  , -16.7485824,  -8.9704448,\n",
       "        -1.1923072,   6.5858304,  14.363968 ,  22.1421056,  29.9202432,\n",
       "        37.6983808,  45.4765184,  53.254656 ,  61.0327936,  68.8109312])"
      ]
     },
     "execution_count": 55,
     "metadata": {},
     "output_type": "execute_result"
    }
   ],
   "source": [
    "lat_centers = (lat_edges[:-1] + lat_edges[1:]) / 2\n",
    "lat_centers"
   ]
  },
  {
   "cell_type": "markdown",
   "metadata": {},
   "source": [
    "We might want to control where our bins are, we can do this by specifying bin edges ourselves:"
   ]
  },
  {
   "cell_type": "code",
   "execution_count": 57,
   "metadata": {},
   "outputs": [
    {
     "name": "stdout",
     "output_type": "stream",
     "text": [
      "[-150. -135. -120. -105.  -90.  -75.  -60.  -45.  -30.  -15.    0.   15.\n",
      "   30.   45.   60.   75.   90.  105.  120.  135.  150.] (21,)\n",
      "[-40.  -34.5 -29.  -23.5 -18.  -12.5  -7.   -1.5   4.    9.5  15.   20.5\n",
      "  26.   31.5  37.   42.5  48.   53.5  59.   64.5  70. ] (21,)\n"
     ]
    }
   ],
   "source": [
    "long_bins = np.linspace(-150, 150, nlong+1)\n",
    "lat_bins = np.linspace(-40, 70, nlat+1)\n",
    "print(long_bins, long_bins.shape)\n",
    "print(lat_bins, lat_bins.shape)"
   ]
  },
  {
   "cell_type": "markdown",
   "metadata": {},
   "source": [
    "Let's take these bins as our inputs and regenerate our histogram:"
   ]
  },
  {
   "cell_type": "code",
   "execution_count": 70,
   "metadata": {},
   "outputs": [],
   "source": [
    "hist2d, long_edges, lat_edges = np.histogram2d(ufos['longitude'], \n",
    "                                               ufos['latitude'], \n",
    "                                               weights=ufos['duration_seconds'],\n",
    "                                              bins = [long_bins,lat_bins])"
   ]
  },
  {
   "cell_type": "markdown",
   "metadata": {},
   "source": [
    "And grab our centers of lat and long for plotting as well:"
   ]
  },
  {
   "cell_type": "code",
   "execution_count": 71,
   "metadata": {},
   "outputs": [],
   "source": [
    "long_centers = (long_edges[:-1] + long_edges[1:]) / 2\n",
    "lat_centers = (lat_edges[:-1] + lat_edges[1:]) / 2"
   ]
  },
  {
   "cell_type": "markdown",
   "metadata": {},
   "source": [
    "We know that we want to input this into `bqplot`'s grid heatmap, so we need to take the transpose:"
   ]
  },
  {
   "cell_type": "code",
   "execution_count": 72,
   "metadata": {},
   "outputs": [],
   "source": [
    "hist2d = hist2d.T"
   ]
  },
  {
   "cell_type": "markdown",
   "metadata": {},
   "source": [
    "What is the range of values in our plot?"
   ]
  },
  {
   "cell_type": "code",
   "execution_count": 73,
   "metadata": {},
   "outputs": [
    {
     "data": {
      "text/plain": [
       "(0.0, 125056847.51, 1.0)"
      ]
     },
     "execution_count": 73,
     "metadata": {},
     "output_type": "execute_result"
    }
   ],
   "source": [
    "hist2d.min(), hist2d.max(), hist2d[hist2d>0].min() # this is the *total duration* of sitings in a bin"
   ]
  },
  {
   "cell_type": "markdown",
   "metadata": {},
   "source": [
    "We still have a big range in count values because we weighted by the non-log duration above.  So we'll instead take the log of our output histogram.\n",
    "\n",
    "For aesthetic value, we want to have areas where there are no counts (like the ocean) show up as zero.  We can do that by a little trick -- setting the 0 values to `NaN`.  We will then take the log for color scaling:"
   ]
  },
  {
   "cell_type": "code",
   "execution_count": 74,
   "metadata": {},
   "outputs": [
    {
     "name": "stderr",
     "output_type": "stream",
     "text": [
      "/Users/jillnaiman/opt/anaconda3/lib/python3.7/site-packages/ipykernel_launcher.py:1: RuntimeWarning: divide by zero encountered in log10\n",
      "  \"\"\"Entry point for launching an IPython kernel.\n"
     ]
    },
    {
     "data": {
      "text/plain": [
       "-inf"
      ]
     },
     "execution_count": 74,
     "metadata": {},
     "output_type": "execute_result"
    }
   ],
   "source": [
    "np.log10(hist2d).min()"
   ]
  },
  {
   "cell_type": "markdown",
   "metadata": {},
   "source": [
    "The above gives us an error which can mess up our color maps.  So we act tricky:"
   ]
  },
  {
   "cell_type": "code",
   "execution_count": 75,
   "metadata": {},
   "outputs": [],
   "source": [
    "hist2d[hist2d <= 0] = np.nan # set zeros to NaNs\n",
    "# then take log\n",
    "hist2d = np.log10(hist2d)\n",
    "#hist2d[0:10]"
   ]
  },
  {
   "cell_type": "markdown",
   "metadata": {},
   "source": [
    "Now that we have all that fancy binning out of the way, lets proceed as normal:"
   ]
  },
  {
   "cell_type": "code",
   "execution_count": 76,
   "metadata": {},
   "outputs": [
    {
     "data": {
      "application/vnd.jupyter.widget-view+json": {
       "model_id": "4d3b5f4c2cbb420b9b44d3260c70e0e8",
       "version_major": 2,
       "version_minor": 0
      },
      "text/plain": [
       "Figure(axes=[ColorAxis(orientation='vertical', scale=ColorScale(max=8.09710747658943, min=0.0, scheme='RdPu'),…"
      ]
     },
     "metadata": {},
     "output_type": "display_data"
    }
   ],
   "source": [
    "# (1) add scales - colors, x & y\n",
    "col_sc = bqplot.ColorScale(scheme=\"RdPu\", \n",
    "                           min=np.nanmin(hist2d), \n",
    "                           max=np.nanmax(hist2d))\n",
    "x_sc = bqplot.LinearScale()\n",
    "y_sc = bqplot.LinearScale()\n",
    "\n",
    "# (2) create axis - for colors, x & y\n",
    "c_ax = bqplot.ColorAxis(scale = col_sc, \n",
    "                        orientation = 'vertical', \n",
    "                        side = 'right')\n",
    "\n",
    "x_ax = bqplot.Axis(scale = x_sc, label='Longitude')\n",
    "y_ax = bqplot.Axis(scale = y_sc, \n",
    "                   orientation = 'vertical', \n",
    "                   label = 'Latitude')\n",
    "\n",
    "# (3) Marks\n",
    "heat_map = bqplot.GridHeatMap(color = hist2d,\n",
    "                              row = lat_centers, \n",
    "                              column = long_centers,\n",
    "                              scales = {'color': col_sc,\n",
    "                                        'row': y_sc,\n",
    "                                        'column': x_sc},\n",
    "                              interactions = {'click': 'select'},\n",
    "                              anchor_style = {'fill':'blue'}, \n",
    "                              selected_style = {'opacity': 1.0},\n",
    "                              unselected_style = {'opacity': 1.0})\n",
    "\n",
    "# (4) interactivity - none yet\n",
    "\n",
    "# (5) put it all together in a figure\n",
    "fig = bqplot.Figure(marks = [heat_map], axes = [c_ax, y_ax, x_ax])\n",
    "fig"
   ]
  },
  {
   "cell_type": "markdown",
   "metadata": {},
   "source": [
    "Let's start building up our dashboard like before.  One easy thing we can do is add a label:"
   ]
  },
  {
   "cell_type": "code",
   "execution_count": 94,
   "metadata": {},
   "outputs": [
    {
     "data": {
      "application/vnd.jupyter.widget-view+json": {
       "model_id": "cbda0c45f7484023af82aac0e8554e4c",
       "version_major": 2,
       "version_minor": 0
      },
      "text/plain": [
       "VBox(children=(Label(value=''), Figure(axes=[ColorAxis(orientation='vertical', scale=ColorScale(max=8.09710747…"
      ]
     },
     "metadata": {},
     "output_type": "display_data"
    }
   ],
   "source": [
    "# (1) add scales - colors, x & y\n",
    "col_sc = bqplot.ColorScale(scheme=\"RdPu\", \n",
    "                           min=np.nanmin(hist2d), \n",
    "                           max=np.nanmax(hist2d))\n",
    "x_sc = bqplot.LinearScale()\n",
    "y_sc = bqplot.LinearScale()\n",
    "\n",
    "# (2) create axis - for colors, x & y\n",
    "c_ax = bqplot.ColorAxis(scale = col_sc, \n",
    "                        orientation = 'vertical', \n",
    "                        side = 'right')\n",
    "\n",
    "x_ax = bqplot.Axis(scale = x_sc, label='Longitude')\n",
    "y_ax = bqplot.Axis(scale = y_sc, \n",
    "                   orientation = 'vertical', \n",
    "                   label = 'Latitude')\n",
    "\n",
    "# (3) Marks\n",
    "heat_map = bqplot.GridHeatMap(color = hist2d,\n",
    "                              row = lat_centers, \n",
    "                              column = long_centers,\n",
    "                              scales = {'color': col_sc,\n",
    "                                        'row': y_sc,\n",
    "                                        'column': x_sc},\n",
    "                              interactions = {'click': 'select'},\n",
    "                              anchor_style = {'fill':'blue'}, \n",
    "                              selected_style = {'opacity': 1.0},\n",
    "                              unselected_style = {'opacity': 1.0})\n",
    "\n",
    "# (4) interactivity - label\n",
    "mySelectedLabel = ipywidgets.Label()\n",
    "def get_data_value(change):\n",
    "    if len(change['owner'].selected) == 1: #only 1 selected\n",
    "        i,j = change['owner'].selected[0]\n",
    "        v = hist2d[i,j] # grab data value\n",
    "        mySelectedLabel.value = 'Total duration in log(sec) = ' + str(v) # set our label\n",
    "    \n",
    "# make sure we check out     \n",
    "heat_map.observe(get_data_value, 'selected')\n",
    "\n",
    "\n",
    "# (5) put it all together in a figure\n",
    "fig = bqplot.Figure(marks = [heat_map], axes = [c_ax, y_ax, x_ax])\n",
    "myDashboard = ipywidgets.VBox([mySelectedLabel,fig])\n",
    "myDashboard"
   ]
  },
  {
   "cell_type": "markdown",
   "metadata": {},
   "source": [
    "Let's also include information about the duration as a function of date in a particular bin on another plot -- a scatter plot this time.  Let's first start by making this plot alone before putting it into our dashboard."
   ]
  },
  {
   "cell_type": "code",
   "execution_count": 83,
   "metadata": {},
   "outputs": [],
   "source": [
    "import datetime as dt # we'll use this to format our dates all fancy like"
   ]
  },
  {
   "cell_type": "markdown",
   "metadata": {},
   "source": [
    "#1: Now let's make our scales.  We'll start with a new `bqplot` scale called `DateScale`:"
   ]
  },
  {
   "cell_type": "code",
   "execution_count": 84,
   "metadata": {},
   "outputs": [],
   "source": [
    "x_scl = bqplot.DateScale(min=dt.datetime(1950,1,1),max=dt.datetime(2020,1,1)) # note: for dates on x-axis"
   ]
  },
  {
   "cell_type": "markdown",
   "metadata": {},
   "source": [
    "Let's plot the duration on a log scale since we know that's probably what will look best based on the range of durations:"
   ]
  },
  {
   "cell_type": "code",
   "execution_count": 85,
   "metadata": {},
   "outputs": [],
   "source": [
    "y_scl = bqplot.LogScale()"
   ]
  },
  {
   "cell_type": "markdown",
   "metadata": {},
   "source": [
    "#2: Our axis:"
   ]
  },
  {
   "cell_type": "code",
   "execution_count": 86,
   "metadata": {},
   "outputs": [],
   "source": [
    "ax_xcl = bqplot.Axis(label='Date', scale=x_scl)\n",
    "ax_ycl = bqplot.Axis(label='Duration in Sec', scale=y_scl, \n",
    "                    orientation='vertical', side='left')"
   ]
  },
  {
   "cell_type": "markdown",
   "metadata": {},
   "source": [
    "#3: our marks, in this case a scatter plot\n",
    "\n",
    "Thinking ahead, we know that we want to select a 2d bin from our heatmap to then draw scatters for our scatter plot.  Let's write things in this way:"
   ]
  },
  {
   "cell_type": "code",
   "execution_count": 96,
   "metadata": {},
   "outputs": [],
   "source": [
    "i,j = 19,0 # picking an x/y bin -- this is one I know has a lot of data!"
   ]
  },
  {
   "cell_type": "markdown",
   "metadata": {},
   "source": [
    "Let's specify the range of longs & lats for this selection of x/y bin:"
   ]
  },
  {
   "cell_type": "code",
   "execution_count": 97,
   "metadata": {},
   "outputs": [],
   "source": [
    "longs = [long_edges[j], long_edges[j+1]] # min/max longitude\n",
    "lats = [lat_edges[i],lat_edges[i+1]] # min/max latitude"
   ]
  },
  {
   "cell_type": "markdown",
   "metadata": {},
   "source": [
    "Let's mask out a subset of the UFO dataset with *only* these ranges of longitude and latitude:"
   ]
  },
  {
   "cell_type": "code",
   "execution_count": 98,
   "metadata": {},
   "outputs": [
    {
     "data": {
      "text/plain": [
       "([64.5, 70.0], [-150.0, -135.0], 327      64.837778\n",
       " 2845     64.837778\n",
       " 3620     64.837778\n",
       " 4602     64.751111\n",
       " 6011     64.837778\n",
       "            ...    \n",
       " 77347    64.751111\n",
       " 77497    64.837778\n",
       " 78571    64.837778\n",
       " 79029    64.837778\n",
       " 79470    64.837778\n",
       " Name: latitude, Length: 74, dtype: float64)"
      ]
     },
     "execution_count": 98,
     "metadata": {},
     "output_type": "execute_result"
    }
   ],
   "source": [
    "region_mask = ( (ufos['latitude'] >= lats[0]) & (ufos['latitude']<=lats[1]) &\\\n",
    "                (ufos['longitude'] >= longs[0]) & (ufos['longitude']<=longs[1]) )\n",
    "\n",
    "# we can see this selects for the upper right point of our heatmap\n",
    "lats, longs, ufos['latitude'][region_mask]"
   ]
  },
  {
   "cell_type": "markdown",
   "metadata": {},
   "source": [
    "We won't add any interactivity to this plot -- the interactivity will be drawn from our heatmap, so all that is left to do is add in marks:"
   ]
  },
  {
   "cell_type": "markdown",
   "metadata": {},
   "source": [
    "#4: Marks"
   ]
  },
  {
   "cell_type": "code",
   "execution_count": 99,
   "metadata": {},
   "outputs": [],
   "source": [
    "# lets plot the durations as a function of year there\n",
    "duration_scatt = bqplot.Scatter(x = ufos['date'][region_mask],\n",
    "                               y = ufos['duration_seconds'][region_mask], \n",
    "                              scales={'x':x_scl, 'y':y_scl})"
   ]
  },
  {
   "cell_type": "markdown",
   "metadata": {},
   "source": [
    "#5: Put it all together and take a look!"
   ]
  },
  {
   "cell_type": "code",
   "execution_count": 100,
   "metadata": {},
   "outputs": [
    {
     "data": {
      "application/vnd.jupyter.widget-view+json": {
       "model_id": "89e8f27e1048464fa669e251077d6158",
       "version_major": 2,
       "version_minor": 0
      },
      "text/plain": [
       "Figure(axes=[Axis(label='Date', scale=DateScale(max=datetime.datetime(2020, 1, 1, 0, 0), min=datetime.datetime…"
      ]
     },
     "metadata": {},
     "output_type": "display_data"
    }
   ],
   "source": [
    "fig_dur = bqplot.Figure(marks = [duration_scatt], axes = [ax_xcl, ax_ycl])\n",
    "fig_dur"
   ]
  },
  {
   "cell_type": "markdown",
   "metadata": {},
   "source": [
    "### Scatter plot + label driven by heatmap dashboard\n",
    "\n",
    "Let's put together our heatmap + label + scatter plot as a dashboard.  I'll recopy what we had before into some cells we can put together:"
   ]
  },
  {
   "cell_type": "code",
   "execution_count": 104,
   "metadata": {},
   "outputs": [],
   "source": [
    "# (I) CREATE LABEL\n",
    "mySelectedLabel = ipywidgets.Label()"
   ]
  },
  {
   "cell_type": "code",
   "execution_count": 105,
   "metadata": {},
   "outputs": [],
   "source": [
    "# (II) HEAT MAP\n",
    "\n",
    "# (1) add scales - colors, x & y\n",
    "col_sc = bqplot.ColorScale(scheme=\"RdPu\", \n",
    "                           min=np.nanmin(hist2d), \n",
    "                           max=np.nanmax(hist2d))\n",
    "x_sc = bqplot.LinearScale()\n",
    "y_sc = bqplot.LinearScale()\n",
    "\n",
    "# (2) create axis - for colors, x & y\n",
    "c_ax = bqplot.ColorAxis(scale = col_sc, \n",
    "                        orientation = 'vertical', \n",
    "                        side = 'right')\n",
    "\n",
    "x_ax = bqplot.Axis(scale = x_sc, label='Longitude')\n",
    "y_ax = bqplot.Axis(scale = y_sc, \n",
    "                   orientation = 'vertical', \n",
    "                   label = 'Latitude')\n",
    "\n",
    "# (3) Marks\n",
    "heat_map = bqplot.GridHeatMap(color = hist2d,\n",
    "                              row = lat_centers, \n",
    "                              column = long_centers,\n",
    "                              scales = {'color': col_sc,\n",
    "                                        'row': y_sc,\n",
    "                                        'column': x_sc},\n",
    "                              interactions = {'click': 'select'},\n",
    "                              anchor_style = {'fill':'blue'}, \n",
    "                              selected_style = {'opacity': 1.0},\n",
    "                              unselected_style = {'opacity': 1.0})\n",
    "\n",
    "# skipping 4 & 5 for now"
   ]
  },
  {
   "cell_type": "code",
   "execution_count": 106,
   "metadata": {},
   "outputs": [],
   "source": [
    "# (III) SCATTER PLOT\n",
    "\n",
    "# (1) scales\n",
    "x_scl = bqplot.DateScale(min=dt.datetime(1950,1,1),max=dt.datetime(2020,1,1)) # note: for dates on x-axis\n",
    "y_scl = bqplot.LogScale()\n",
    "\n",
    "# (2) Axis\n",
    "ax_xcl = bqplot.Axis(label='Date', scale=x_scl)\n",
    "ax_ycl = bqplot.Axis(label='Duration in Sec', scale=y_scl, \n",
    "                    orientation='vertical', side='left')\n",
    "\n",
    "# (3) Marks\n",
    "# NOTE: we'll start with some default value selected\n",
    "i,j = 19,0 # picking an x/y bin -- this is one I know has a lot of data!\n",
    "longs = [long_edges[j], long_edges[j+1]] # min/max longitude\n",
    "lats = [lat_edges[i],lat_edges[i+1]] # min/max latitude\n",
    "# lets plot the durations as a function of year there\n",
    "duration_scatt = bqplot.Scatter(x = ufos['date'][region_mask],\n",
    "                               y = ufos['duration_seconds'][region_mask], \n",
    "                              scales={'x':x_scl, 'y':y_scl})\n",
    "\n",
    "# skipping 4 & 5 for now"
   ]
  },
  {
   "cell_type": "code",
   "execution_count": 107,
   "metadata": {},
   "outputs": [],
   "source": [
    "# (IV) LINKING TOGETHER DASHBOARD WITH INTERACTIVITY\n",
    "\n",
    "def get_data_value(change):\n",
    "    if len(change['owner'].selected) == 1: #only 1 selected\n",
    "        i,j = change['owner'].selected[0]\n",
    "        v = hist2d[i,j] # grab data value\n",
    "        mySelectedLabel.value = 'Total duration in log(sec) = ' + str(v) # set our label\n",
    "        # now: for the scatter plot\n",
    "        longs = [long_edges[j], long_edges[j+1]]\n",
    "        lats = [lat_edges[i],lat_edges[i+1]]\n",
    "        region_mask = ( (ufos['latitude'] >= lats[0]) & (ufos['latitude']<=lats[1]) &\\\n",
    "                    (ufos['longitude'] >= longs[0]) & (ufos['longitude']<=longs[1]) )\n",
    "        duration_scatt.x = ufos['date'][region_mask]\n",
    "        duration_scatt.y = ufos['duration_seconds'][region_mask]\n",
    "\n",
    "heat_map.observe(get_data_value, 'selected')"
   ]
  },
  {
   "cell_type": "code",
   "execution_count": 108,
   "metadata": {},
   "outputs": [],
   "source": [
    "# (5) create figures\n",
    "fig_heatmap = bqplot.Figure(marks = [heat_map], axes = [c_ax, y_ax, x_ax])\n",
    "fig_dur = bqplot.Figure(marks = [duration_scatt], axes = [ax_xcl, ax_ycl])"
   ]
  },
  {
   "cell_type": "code",
   "execution_count": 110,
   "metadata": {},
   "outputs": [
    {
     "data": {
      "application/vnd.jupyter.widget-view+json": {
       "model_id": "b7d7b7ef9ebb4932ab7cccd1715c45b1",
       "version_major": 2,
       "version_minor": 0
      },
      "text/plain": [
       "VBox(children=(Label(value='Total duration in log(sec) = 2.667452952889954'), HBox(children=(Figure(axes=[Colo…"
      ]
     },
     "metadata": {},
     "output_type": "display_data"
    }
   ],
   "source": [
    "# since we know from last time we wanna make our figs a bit bigger:\n",
    "fig_heatmap.layout.min_width='500px'\n",
    "fig_dur.layout.min_width='500px'\n",
    "\n",
    "myDashboard = ipywidgets.VBox([mySelectedLabel, ipywidgets.HBox([fig_heatmap,fig_dur])])\n",
    "myDashboard"
   ]
  },
  {
   "cell_type": "markdown",
   "metadata": {},
   "source": [
    "Note that when I select a deep purple place, my scatter plot is very laggy, this makes me think we should do this with a histogram/bar type plot.  So let's try that below:"
   ]
  },
  {
   "cell_type": "code",
   "execution_count": null,
   "metadata": {},
   "outputs": [],
   "source": []
  },
  {
   "cell_type": "code",
   "execution_count": 31,
   "metadata": {},
   "outputs": [
    {
     "data": {
      "application/vnd.jupyter.widget-view+json": {
       "model_id": "d209aa10f5de41a9820ff6850021fe86",
       "version_major": 2,
       "version_minor": 0
      },
      "text/plain": [
       "VBox(children=(Label(value=''), HBox(children=(Figure(axes=[ColorAxis(orientation='vertical', scale=ColorScale…"
      ]
     },
     "metadata": {},
     "output_type": "display_data"
    }
   ],
   "source": [
    "# (I) For the heatmap\n",
    "# add scales - colors, x & y\n",
    "col_sc = bqplot.ColorScale(scheme=\"RdPu\", \n",
    "                           min=np.nanmin(hist2d), \n",
    "                           max=np.nanmax(hist2d))\n",
    "x_sc = bqplot.OrdinalScale()\n",
    "y_sc = bqplot.OrdinalScale()\n",
    "\n",
    "# create axis - for colors, x & y\n",
    "c_ax = bqplot.ColorAxis(scale = col_sc, \n",
    "                        orientation = 'vertical', \n",
    "                        side = 'right')\n",
    "x_ax = bqplot.Axis(scale = x_sc, label='Longitude')\n",
    "y_ax = bqplot.Axis(scale = y_sc, \n",
    "                   orientation = 'vertical', \n",
    "                   label = 'Latitude')\n",
    "\n",
    "heat_map = bqplot.GridHeatMap(color = hist2d,\n",
    "                              row = lat_centers, \n",
    "                              column = long_centers,\n",
    "                              scales = {'color': col_sc,\n",
    "                                        'row': y_sc,\n",
    "                                        'column': x_sc},\n",
    "                              interactions = {'click': 'select'},\n",
    "                              anchor_style = {'fill':'blue'}, \n",
    "                              selected_style = {'opacity': 1.0},\n",
    "                              unselected_style = {'opacity': 1.0})\n",
    "\n",
    "fig = bqplot.Figure(marks = [heat_map], axes = [c_ax, y_ax, x_ax])\n",
    "\n",
    "# (II) Bar plot\n",
    "# scales & ax in usual way\n",
    "x_scl = bqplot.LinearScale() # note we are back to linears\n",
    "y_scl = bqplot.LinearScale()\n",
    "ax_xcl = bqplot.Axis(label='Date', scale=x_scl)\n",
    "ax_ycl = bqplot.Axis(label='Total duration in Sec', scale=y_scl, \n",
    "                    orientation='vertical', side='left')\n",
    "# for the lineplot of duration in a region as a function of year\n",
    "# lets start with a default region & year\n",
    "i,j = 0,0\n",
    "longs = [long_edges[i], long_edges[i+1]]\n",
    "lats = [lat_edges[j],lat_edges[j+1]]\n",
    "region_mask = ( (ufos['latitude'] >= lats[0]) & (ufos['latitude']<=lats[1]) &\\\n",
    "                (ufos['longitude'] >= longs[0]) & (ufos['longitude']<=longs[1]) )\n",
    "\n",
    "# we can see this selects for the upper right point of our heatmap\n",
    "lats, longs, ufos['latitude'][region_mask]\n",
    "\n",
    "# lets plot the durations as a function of year there\n",
    "ufos['year'] = ufos['date'].dt.year\n",
    "dur, dur_edges = np.histogram(ufos['year'][region_mask],\n",
    "                              weights=ufos['duration_seconds'][region_mask],\n",
    "                              bins=10)\n",
    "# like before with our histograms\n",
    "dur_centers = [(dur_edges[i]+dur_edges[i+1])*0.5 for i in range(len(dur_edges)-1)]\n",
    "# make histogram by hand, weighting by duration\n",
    "duration_hist = bqplot.Bars(x=dur_centers, y=dur, \n",
    "                          scales={'x':x_scl, 'y':y_scl})\n",
    "fig_dur = bqplot.Figure(marks = [duration_hist], axes = [ax_xcl, ax_ycl])\n",
    "\n",
    "\n",
    "#  to what we've selected so:\n",
    "def get_data_value(change):\n",
    "    i,j = change['owner'].selected[0]\n",
    "    v = hist2d[i,j] # grab data value\n",
    "    mySelectedLabel.value = 'Total duration in log(sec) = ' + str(v) # set our label\n",
    "    # note!! i & j are swapped here to machup with hist & selection \n",
    "    longs = [long_edges[j], long_edges[j+1]]\n",
    "    lats = [lat_edges[i],lat_edges[i+1]]\n",
    "    region_mask = ( (ufos['latitude'] >= lats[0]) & (ufos['latitude']<=lats[1]) &\\\n",
    "                (ufos['longitude'] >= longs[0]) & (ufos['longitude']<=longs[1]) )\n",
    "    if len(ufos['year'][region_mask]) > 0:\n",
    "        dur, dur_edges = np.histogram(ufos['year'][region_mask],\n",
    "                                      weights=ufos['duration_seconds'][region_mask],\n",
    "                                      bins=10)\n",
    "        dur_centers = [(dur_edges[i]+dur_edges[i+1])*0.5 for i in range(len(dur_edges)-1)]\n",
    "        duration_hist.x = dur_centers\n",
    "        duration_hist.y = dur\n",
    "    #else:\n",
    "    #    duration_hist.x = np.arange(10); duration_hist.y = np.zeros(10)\n",
    "# make sure we connect to heatmap     \n",
    "heat_map.observe(get_data_value, 'selected')\n",
    "\n",
    "fig.layout.min_width = '500px'\n",
    "fig_dur.layout.min_width = '700px'\n",
    "plots = ipywidgets.HBox([fig,fig_dur])\n",
    "myout = ipywidgets.VBox([mySelectedLabel, plots])\n",
    "myout"
   ]
  },
  {
   "cell_type": "code",
   "execution_count": null,
   "metadata": {},
   "outputs": [],
   "source": []
  },
  {
   "cell_type": "code",
   "execution_count": null,
   "metadata": {},
   "outputs": [],
   "source": []
  },
  {
   "cell_type": "code",
   "execution_count": null,
   "metadata": {},
   "outputs": [],
   "source": []
  }
 ],
 "metadata": {
  "kernelspec": {
   "display_name": "Python 3",
   "language": "python",
   "name": "python3"
  },
  "language_info": {
   "codemirror_mode": {
    "name": "ipython",
    "version": 3
   },
   "file_extension": ".py",
   "mimetype": "text/x-python",
   "name": "python",
   "nbconvert_exporter": "python",
   "pygments_lexer": "ipython3",
   "version": "3.7.6"
  }
 },
 "nbformat": 4,
 "nbformat_minor": 4
}
